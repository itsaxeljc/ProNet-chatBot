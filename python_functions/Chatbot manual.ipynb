{
 "cells": [
  {
   "cell_type": "code",
   "execution_count": 2,
   "metadata": {},
   "outputs": [],
   "source": [
    "import nltk\n",
    "import numpy as np\n",
    "import random\n",
    "import string"
   ]
  },
  {
   "cell_type": "markdown",
   "metadata": {},
   "source": [
    "# 1 DEFINICIÓN CORPUS"
   ]
  },
  {
   "cell_type": "code",
   "execution_count": 3,
   "metadata": {},
   "outputs": [
    {
     "data": {
      "text/plain": [
       "'Muse es una plataforma web que permite a museos, empresas enfocadas al desarrollo cultural, instituciones y artistas independientes conectar con mÃ¡s pÃºblico, pero no solo eso, permite a los turistas, locales y amantes del arte conocer a una ciudad desde una perspectiva completamente cultural. Se trata de un movimiento de transformaciÃ³n hacia los cimientos de una ciudad inteligente que difunde su cultura y apoya a sus artistas.\\n\\nEn Tepic, Nayarit hay 6 museos que puedes visitar. \\n\\nEl Museo Interactivo de Ciencias e InnovaciÃ³n de Nayarit estÃ¡ ubicado en Av de la Salud, Ciudad Industrial y estÃ¡ abierto al pÃºblico de martes a domingo de 9 a 18 hrs.\\n\\nEl Museo Regional de Nayarit estÃ¡ ubicado en Av MÃ©xico Nte 91, Centro y estÃ¡ abierto al pÃºblico de lunes a viernes de 10 a 16 hrs SÃ¡bados de 10 a 15 hrs. \\n\\nLa entrada del Museo Regional de Nayarit tiene un costo de $65 mxn.\\n\\nLa Casa Museo Juan Escutia estÃ¡ ubicado en Miguel Hidalgo 71, Centro y estÃ¡ abierto de martes a sÃ¡bado de 10 a 14 hrs y de 16 a 19 hrs, el domingo de 9 a 14 hrs.\\n\\nLa entrada a la Casa Museo Juan Escutia es libre.\\n\\nEl Museo Amado Nervo se encuentra en Zacatecas 284 Nte Centro y estÃ¡ abierto de lunes a viernes de 9 a 14 hrs y de 16 a 19 hrs, los sÃ¡bados de 10 a 14 hrs. \\n\\nLa entrada libre al Museo Amado Nervo es libre.\\n\\nEl Museo de los Cinco Pueblos se encuentra en Av. MÃ©xico 105 Nte Centro y estÃ¡ abierto de martes a domingo de 9 a 14 hrs y de 16 a 19 hrs. \\n\\nLe entrada al museo de los cinco pueblos es libre.\\n\\nEl Centro de Arte ContemporÃ¡neo del Bicentenario Emilia Ortiz se localiza en Miguel Hidalo 17, Centro y estÃ¡ abierto al pÃºblico de martes a sÃ¡bado de 10 a 14 hrs y de 16 a 19 hrs, los domingos de 10 a 14 hrs. \\n\\nLa entrada al Centro de Arte ContemporÃ¡neo del Bicentenario Emilia Ortiz es Entrada libre.\\n\\nNayarit cuenta con una diversidad de atractivos culturales, entre los que se encuentran: el folklore Ã©tnico Huichol y Cora; sobresalen la Semana Santa Cora, la Judea en Jala, el â€œCambio de Varasâ€ en la Casa Fuerte de El Nayar, que significa el cambio de poderes en los primeros dÃ\\xadas de cada aÃ±o.\\n\\nLas fiestas tradicionales son verdaderos puntos de concentraciÃ³n social, en su gran mayorÃ\\xada son de tipo religioso y se ven asociadas con exposiciones comerciales, cada municipio o localidad cuenta con sus fiestas, danzas y tradiciones.\\n\\nUno de los mÃ¡s grandes valores de Nayarit radican en su variedad Ã©tnica: Coras, Huicholes, Tepehuanos, Mexicaneros y la cultura Mestiza.\\n\\nTambiÃ©n puedes visitar las Ruinas de la Ex FÃ¡brica Textil de Jauja y el Santuario de la Virgen de Guadalupe.\\n\\nEn Tepic podrÃ¡s encontrar artesanÃ\\xadas de vidrio soplado, alfarerÃ\\xada, muebles coloniales, tejido de palma, tallado de madera, herrerÃ\\xada de carÃ¡cter colonial y huaraches.\\n\\nEn Nayarit existen cuatro lenguas indigenas: NÃ¡yeri (Cora), WixÃ¡rika (Huichol), Tepehuano y Mexicanero.\\n\\nEl nombre Tepic es de origen nÃ¡huatl, Tepic significa \"Lugar de piedras macizas\". \\n\\nEn Nayarit se encuentra la antigua fabrica textil de bellavista, la cual es actualmente una atracciÃ³n turÃ\\xadstica.\\n\\nEn Nayarit se encuentra la Pila del Rey en AltaVista que esta ubicado en la comunidad de Altavista en el municipio de Compostela a pocos minutos de RincÃ³n de Guayabitos, en una extensiÃ³n de 80 hectÃ¡reas se han identificado ahÃ\\xad mÃ¡s de 2 mil grabados en piedras.\\n\\nEn Nayarit se encuentra Los Toriles, esta zona arqueolÃ³gicaÂ\\xa0es reconocida como una de las regiones mÃ¡s importantes del occidente en el MÃ©xico antiguo donde se han localizado poco mÃ¡s de 85 montÃ\\xadculos y estructuras, de las cuales es posible visitar solo 15.\\n\\nLa ContadurÃ\\xada un lugar ubicado en Nayarit se localiza en el cerro de San Basilio data del aÃ±o 1773, en este lugar fue donde se llevaron a cabo mÃ¡s batallas a lo largo de la historia del puerto.\\n\\nNayarit es un pequeÃ±o estado en el oeste de MÃ©xico, entre las montaÃ±as arboladas de la Sierra Madre Occidental y el ocÃ©ano PacÃ\\xadfico. \\n\\nMexcaltitÃ¡n, es un lugar que se encuentra en Nayarit, en este lugar encontraras un mundo lleno de misterio, historia y experiencias culturales Ãºnicas, MexcaltitÃ¡n es conocido como la cuna azteca. \\n\\nJala es un Pueblo MÃ¡gico localizado en la parte sur de Nayarit, es un pueblo que ha conservado su esencia en todos los rincones.\\n\\nSanta Teresa del Nayar es una RegiÃ³n llena de belleza cultura y tradiciÃ³n en la que habito el Rey Nayar, esta Comunidad IndÃ\\xadgena de Santa Teresa del Nayar, se encuentra localizada en la Sierra del Nayar, es un mosaico de costumbres y tradiciones que se concentra en sus fiestas y su arte colorido.\\n\\nEl Templo Franciscano de JesÃºs MarÃ\\xada se localiza en la comunidad de Mesa del Nayar y data de fines del siglo XVIII, al interior del templo se encuentra un altar en el que se puede observarÂ\\xa0un crÃ¡neo perteneciente al Ãºltimo rey indÃ\\xadgena cora llamado Hueitlacatl Tonati.\\n\\nLa Parroquia de Compostela destaca por su gran belleza en la cabecera municipal de Compostela, una verdadera obra de arte de estilo colonial, la cual conserva evidencias de esa Ã©poca, como el Cristo EspaÃ±ol del siglo XVI.\\n\\nEn Nayarit hay varios lugares culturales interesantes como lo es Bellavista, MexcaltitÃ¡n, Jala, El Templo Franciscano de JesÃºs MarÃ\\xada, La Parroquia de Compostela, Santa Teresa del Nayar, La ContadurÃ\\xada, Los Toriles y la Pila del Rey en AltaVista.\\n\\nEn Tepic se encuentra el Centro HistÃ³rico, donde se ubica la Catedral de la PurÃ\\xadsima ConcepciÃ³n,Â\\xa0el Palacio de Gobierno, el Templo de la Cruz de Zacate.Â\\xa0\\n\\nElÂ\\xa0nombreÂ\\xa0del estado deÂ\\xa0NayaritÂ\\xa0se debe a un famoso caudillo, legislador y rey de la etnia Cora deÂ\\xa0nombreÂ\\xa0Naye; fue el fundador del reino de Huacica o XÃ©cora en las partes altas de la Sierra Madre Occidental, reino que resistiÃ³ a los conquistadores espaÃ±oles por mÃ¡s de 200 aÃ±os.\\n\\nUn lugar muy popular de Nayarit es la rivera Nayarita, es un lugar turÃ\\xadstico al cual todo aventurero deberÃ\\xada ir.'"
      ]
     },
     "execution_count": 3,
     "metadata": {},
     "output_type": "execute_result"
    }
   ],
   "source": [
    "f=open(r'corpus_muse.txt','r',errors = 'ignore')\n",
    "raw=f.read()\n",
    "raw"
   ]
  },
  {
   "cell_type": "markdown",
   "metadata": {},
   "source": [
    "# 2a Preprocesamiento del Texto con NTLK CORPUS"
   ]
  },
  {
   "cell_type": "code",
   "execution_count": 4,
   "metadata": {},
   "outputs": [],
   "source": [
    "raw=raw.lower()# convertir en minúscula\n",
    "#nltk.download('punkt') # Instalar módulo punkt si no está ya instalado (solo ejecutar la primera vez)\n",
    "#nltk.download('wordnet') # Instalar módulo wordnet si no está ya instalado (solo ejecutar la primera vez)\n",
    "sent_tokens = nltk.sent_tokenize(raw)# Convierte el CORPUS a una lista de sentencias\n",
    "word_tokens = nltk.word_tokenize(raw)# Convierte el CORPUS a una lista de palabras\n",
    "lemmer = nltk.stem.WordNetLemmatizer()\n",
    "\n",
    "#WordNet diccionario semántico incluido en NLTK\n",
    "def LemTokens(tokens):\n",
    "    return [lemmer.lemmatize(token) for token in tokens]\n",
    "\n",
    "remove_punct_dict = dict((ord(punct), None) for punct in string.punctuation)\n",
    "def LemNormalize(text):\n",
    "    return LemTokens(nltk.word_tokenize(text.lower().translate(remove_punct_dict)))"
   ]
  },
  {
   "cell_type": "markdown",
   "metadata": {},
   "source": [
    "# 2b PREPROCESAMIENTO DEL TEXTO + 3 Evaluar Similitud MENSAJE USUARIO - CORPUS"
   ]
  },
  {
   "cell_type": "code",
   "execution_count": 5,
   "metadata": {},
   "outputs": [],
   "source": [
    "from sklearn.feature_extraction.text import TfidfVectorizer\n",
    "from sklearn.metrics.pairwise import cosine_similarity\n",
    "from nltk.corpus import stopwords\n",
    "\n",
    "#Función para determinar la similitud del texto insertado y el corpus\n",
    "def response(user_response):\n",
    "    robo_response=''\n",
    "    sent_tokens.append(user_response) #Añade al corpus la respuesta de usuario al final\n",
    "    TfidfVec = TfidfVectorizer(tokenizer=LemNormalize, stop_words=stopwords.words('spanish'))\n",
    "    tfidf = TfidfVec.fit_transform(sent_tokens)\n",
    "    # 3 EVALUAR SIMILITUD DE COSENO ENTRE MENSAJE USUARIO (tfidf[-1]) y el CORPUS (tfidf)\n",
    "    vals = cosine_similarity(tfidf[-1], tfidf)\n",
    "    idx=vals.argsort()[0][-2]\n",
    "    flat = vals.flatten()\n",
    "    flat.sort()\n",
    "    req_tfidf = flat[-2]\n",
    "    \n",
    "    if(req_tfidf==0):\n",
    "        robo_response=robo_response+\"Lo siento, no te he entendido. Si no puedo responder a lo que busca póngase en contacto con soportemuse@soporte.com\"\n",
    "        return robo_response\n",
    "\n",
    "    else:\n",
    "        robo_response = robo_response+sent_tokens[idx]\n",
    "        return robo_response"
   ]
  },
  {
   "cell_type": "markdown",
   "metadata": {},
   "source": [
    "# 4 DEFINICIÓN DE COINCIDENCIAS MANUAL"
   ]
  },
  {
   "cell_type": "code",
   "execution_count": 6,
   "metadata": {},
   "outputs": [],
   "source": [
    "SALUDOS_INPUTS = (\"hola\", \"buenas\", \"saludos\", \"qué tal\", \"hey\",\"buenos dias\",\"bonjour\",\"coucou\",)\n",
    "SALUDOS_OUTPUTS = [\"Hola\", \"Hola, ¿Qué tal?\", \"Hola, ¿Cómo te puedo ayudar?\", \"Hola, encantado de hablar contigo\",\"Bonjour !\",\"Coucou mon ami !\"]\n",
    "\n",
    "def saludos(sentence):\n",
    "    for word in sentence.split():\n",
    "        if word.lower() in SALUDOS_INPUTS:\n",
    "            return random.choice(SALUDOS_OUTPUTS)"
   ]
  },
  {
   "cell_type": "markdown",
   "metadata": {},
   "source": [
    "# 5 GENERACIÓN DE RESPUESTA"
   ]
  },
  {
   "cell_type": "code",
   "execution_count": 7,
   "metadata": {},
   "outputs": [
    {
     "name": "stdout",
     "output_type": "stream",
     "text": [
      "MUSEBOT: Hola! Mi nombre es MuseBot, contestaré tus preguntas sobre esta plataforma y las opciones culturales de la ciudad de Tepic. Si quieres salir, escribe 'salir' \n",
      "MUSEBOT: Hola, encantado de hablar contigo\n",
      "MUSEBOT: Hasta pronto amigo, nos escribimos pronto!\n"
     ]
    }
   ],
   "source": [
    "flag=True\n",
    "print(\"MUSEBOT: Hola! Mi nombre es MuseBot, contestaré tus preguntas sobre esta plataforma y las opciones culturales de la ciudad de Tepic. Si quieres salir, escribe 'salir' \")\n",
    "while(flag==True):\n",
    "    user_response = input()\n",
    "    user_response = user_response.lower() #Convertimos a minúscula\n",
    "    \n",
    "    if(user_response!='salir'):\n",
    "        \n",
    "        if(user_response=='gracias' or user_response=='muchas gracias'): #Se podría haber definido otra función de coincidencia manual\n",
    "            flag=True\n",
    "            print(\"MUSEBOT: De nada!\")\n",
    "            \n",
    "        else:\n",
    "            if(saludos(user_response)!=None): #Si la palabra insertada por el usuario es un saludo (Coincidencias manuales definidas previamente)\n",
    "                print(\"MUSEBOT: \"+saludos(user_response))\n",
    "                \n",
    "            else: #Si la palabra insertada no es un saludo --> CORPUS\n",
    "                print(\"MUSEBOT: \",end=\"\") \n",
    "                print(response(user_response))\n",
    "                sent_tokens.remove(user_response) # para eliminar del corpus la respuesta del usuario y volver a evaluar con el CORPUS limpio\n",
    "    else:\n",
    "        flag=False\n",
    "        print(\"MUSEBOT: Hasta pronto amigo, nos escribimos pronto!\")"
   ]
  },
  {
   "cell_type": "code",
   "execution_count": null,
   "metadata": {},
   "outputs": [],
   "source": []
  },
  {
   "cell_type": "code",
   "execution_count": null,
   "metadata": {},
   "outputs": [],
   "source": []
  }
 ],
 "metadata": {
  "interpreter": {
   "hash": "369f2c481f4da34e4445cda3fffd2e751bd1c4d706f27375911949ba6bb62e1c"
  },
  "kernelspec": {
   "display_name": "Python 3.10.0 64-bit",
   "language": "python",
   "name": "python3"
  },
  "language_info": {
   "codemirror_mode": {
    "name": "ipython",
    "version": 3
   },
   "file_extension": ".py",
   "mimetype": "text/x-python",
   "name": "python",
   "nbconvert_exporter": "python",
   "pygments_lexer": "ipython3",
   "version": "3.10.0"
  }
 },
 "nbformat": 4,
 "nbformat_minor": 4
}
